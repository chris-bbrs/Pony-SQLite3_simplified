{
 "cells": [
  {
   "cell_type": "code",
   "execution_count": 1,
   "metadata": {
    "ExecuteTime": {
     "end_time": "2020-12-20T14:33:02.612843Z",
     "start_time": "2020-12-20T14:33:01.182648Z"
    }
   },
   "outputs": [],
   "source": [
    "from pony.orm import *; set_sql_debug(True)\n",
    "import pony.orm as pny\n",
    "import pandas as pd\n",
    "from random import randrange, uniform\n",
    "import os\n",
    "import sys\n",
    "import sqlite3\n",
    "import datetime\n",
    "from faker import Faker; fake = Faker()"
   ]
  },
  {
   "cell_type": "code",
   "execution_count": 2,
   "metadata": {
    "ExecuteTime": {
     "end_time": "2020-12-20T14:33:02.681273Z",
     "start_time": "2020-12-20T14:33:02.626061Z"
    }
   },
   "outputs": [],
   "source": [
    "def create_connection(db_file, rewrite=False):\n",
    "    \"\"\" create a database connection to an SQLite database \"\"\"\n",
    "    connection = None\n",
    "    try:\n",
    "        if rewrite: os.remove(db_file)\n",
    "        connection = sqlite3.connect(db_file)\n",
    "        cursor = connection.cursor()\n",
    "    except (Error, FileNotFoundError) as e:\n",
    "        print(e)\n",
    "    else:\n",
    "        return (connection, cursor)\n",
    "    \n",
    "def ER_draw(db_file):\n",
    "    from eralchemy import render_er\n",
    "    from IPython.display import Image, display\n",
    "    \n",
    "    render_er(f\"sqlite:///{db_file}\", 'erd_from_sqlite.png')\n",
    "    display(Image(filename='erd_from_sqlite.png'))\n",
    "    \n",
    "def execute_commands(sstring, SQL_queries_exist=False):\n",
    "#   execute_commands('''sql_string''')\n",
    "    if SQL_queries_exist:\n",
    "        sql_string = sstring.replace(\"\\n\", \"\").replace('AUTO_INCREMENT', '').split(\";\")\n",
    "        tmp = [curs.execute(string) for string in sql_string if len(string)>2]\n",
    "        conn.commit()\n",
    "        return False\n",
    "    else: \n",
    "        return True\n",
    "    \n",
    "def str_to_class(classname):\n",
    "    return getattr(sys.modules[__name__], classname)\n",
    "\n",
    "def attype(ent, attr, tot_len, i):\n",
    "    attr_type = getattr(ent, attr).py_type\n",
    "\n",
    "    if attr in ent._pk_paths_:\n",
    "        if attr_type in (str, unicode, LongStr, LongUnicode):\n",
    "            return f\"{ent.__name__}_{attr}{i+1}\"\n",
    "    else:\n",
    "        if attr_type in (str, unicode, LongStr, LongUnicode):\n",
    "            return f\"{attr}_{i+1}\"\n",
    "#       elif attr_type in (IntArray, StrArray, FloatArray): Only possibility I did not take into account\n",
    "        elif attr_type in (datetime.datetime, datetime.date ,datetime.time ,datetime.timedelta):\n",
    "            return fake.date_time_between(start_date='-1y', end_date='now')\n",
    "        elif attr_type == float:\n",
    "            return round(uniform(-tot_len, tot_len*2), 2)\n",
    "        elif attr_type == int:\n",
    "            return randrange(-tot_len, tot_len*2)\n",
    "        elif attr_type == bool:\n",
    "            return fake.pybool()\n",
    "        else:\n",
    "            try:\n",
    "                if attr_type._pk_.py_type in (str, unicode, LongStr, LongUnicode):\n",
    "                    key =  f\"{attr_type.__name__}_{attr_type._pk_.column}{randrange(1, tot_len+1)}\"\n",
    "                elif attr_type._pk_.py_type == int:\n",
    "                    key = randrange(1, tot_len+1)\n",
    "                return key\n",
    "            except Exception as inst:\n",
    "                print(inst)\n",
    "                \n",
    "def sql_present(squery=None, ent_name=None, entity_present=False):\n",
    "    if entity_present and ent_name:\n",
    "        return pd.read_sql_query(f\"SELECT * FROM {ent_name}\", conn).rename_axis(ent_name, axis=1)\n",
    "    else:\n",
    "        return pd.read_sql_query(squery.replace(\"\\n\", \"\").split(\";\")[0], conn)\n",
    "    \n",
    "def fake_fillin(entities, num_of_values=5):\n",
    "    \"\"\"_Fill in fake data to db_\"\"\"\n",
    "\n",
    "    entities = list(entities.keys())\n",
    "    total_values = num_of_values\n",
    "    for ent in entities:\n",
    "        entity = str_to_class(ent)\n",
    "        entity_keys = entity._columns_\n",
    "        gen_vals = [tuple([str(attype(entity,attr,total_values,i)) for attr in entity_keys if not(attr in entity._pk_paths_ and getattr(entity, attr).py_type == int)]) for i in range(total_values)]\n",
    "\n",
    "        sql = f\"INSERT INTO {entity.__name__} {tuple(entity_keys[-len(gen_vals[0]):])} VALUES {tuple(['?']*len(gen_vals[0]))}\".replace(\"'\", \"\").replace(\",)\", \")\")\n",
    "        \n",
    "        tmp = curs.executemany(sql, gen_vals)\n",
    "    conn.commit()"
   ]
  },
  {
   "cell_type": "code",
   "execution_count": 3,
   "metadata": {
    "ExecuteTime": {
     "end_time": "2020-12-20T14:33:03.364049Z",
     "start_time": "2020-12-20T14:33:03.346243Z"
    }
   },
   "outputs": [
    {
     "data": {
      "text/plain": [
       "'_Sql query for db init_'"
      ]
     },
     "execution_count": 3,
     "metadata": {},
     "output_type": "execute_result"
    }
   ],
   "source": [
    "'''_Sql query for db init_'''\n",
    "\n",
    "squery = '''\n",
    "CREATE TABLE Worker (\n",
    "    WORKER_ID INT NOT NULL PRIMARY KEY AUTO_INCREMENT,\n",
    "    FIRST_NAME CHAR(25),\n",
    "    LAST_NAME CHAR(25),\n",
    "    SALARY INT(15),\n",
    "    JOINING_DATE DATETIME,\n",
    "    DEPARTMENT CHAR(25)\n",
    ");\n",
    "\n",
    "INSERT INTO Worker \n",
    "    (WORKER_ID, FIRST_NAME, LAST_NAME, SALARY, JOINING_DATE, DEPARTMENT) VALUES\n",
    "        (001, 'Monika', 'Arora', 100000, '14-02-20 09.00.00', 'HR'),\n",
    "        (002, 'Niharika', 'Verma', 80000, '14-06-11 09.00.00', 'Admin'),\n",
    "        (003, 'Vishal', 'Singhal', 300000, '14-02-20 09.00.00', 'HR'),\n",
    "        (004, 'Amitabh', 'Singh', 500000, '14-02-20 09.00.00', 'Admin'),\n",
    "        (005, 'Vivek', 'Bhati', 500000, '14-06-11 09.00.00', 'Admin'),\n",
    "        (006, 'Vipul', 'Diwan', 200000, '14-06-11 09.00.00', 'Account'),\n",
    "        (007, 'Satish', 'Kumar', 75000, '14-01-20 09.00.00', 'Account'),\n",
    "        (008, 'Geetika', 'Chauhan', 90000, '14-04-11 09.00.00', 'Admin');\n",
    "\n",
    "CREATE TABLE Bonus (\n",
    "    WORKER_REF_ID INT,\n",
    "    BONUS_AMOUNT INT(10),\n",
    "    BONUS_DATE DATETIME,\n",
    "    FOREIGN KEY (WORKER_REF_ID)\n",
    "        REFERENCES Worker(WORKER_ID)\n",
    "        ON DELETE CASCADE\n",
    ");\n",
    "\n",
    "INSERT INTO Bonus \n",
    "    (WORKER_REF_ID, BONUS_AMOUNT, BONUS_DATE) VALUES\n",
    "        (001, 5000, '16-02-20'),\n",
    "        (002, 3000, '16-06-11'),\n",
    "        (003, 4000, '16-02-20'),\n",
    "        (001, 4500, '16-02-20'),\n",
    "        (002, 3500, '16-06-11');\n",
    "CREATE TABLE Title (\n",
    "    WORKER_REF_ID INT,\n",
    "    WORKER_TITLE CHAR(25),\n",
    "    AFFECTED_FROM DATETIME,\n",
    "    FOREIGN KEY (WORKER_REF_ID)\n",
    "        REFERENCES Worker(WORKER_ID)\n",
    "        ON DELETE CASCADE\n",
    ");\n",
    "\n",
    "INSERT INTO Title \n",
    "    (WORKER_REF_ID, WORKER_TITLE, AFFECTED_FROM) VALUES\n",
    " (001, 'Manager', '2016-02-20 00:00:00'),\n",
    " (002, 'Executive', '2016-06-11 00:00:00'),\n",
    " (008, 'Executive', '2016-06-11 00:00:00'),\n",
    " (005, 'Manager', '2016-06-11 00:00:00'),\n",
    " (004, 'Asst. Manager', '2016-06-11 00:00:00'),\n",
    " (007, 'Executive', '2016-06-11 00:00:00'),\n",
    " (006, 'Lead', '2016-06-11 00:00:00'),\n",
    " (003, 'Lead', '2016-06-11 00:00:00');\n",
    " '''"
   ]
  },
  {
   "cell_type": "code",
   "execution_count": 4,
   "metadata": {
    "ExecuteTime": {
     "end_time": "2020-12-20T14:33:16.033937Z",
     "start_time": "2020-12-20T14:33:15.101388Z"
    }
   },
   "outputs": [
    {
     "name": "stdout",
     "output_type": "stream",
     "text": [
      "GET NEW CONNECTION\n",
      "RELEASE CONNECTION\n",
      "GET CONNECTION FROM THE LOCAL POOL\n",
      "PRAGMA foreign_keys = false\n",
      "BEGIN IMMEDIATE TRANSACTION\n",
      "CREATE INDEX \"idx_bonus__worker_ref_id\" ON \"Bonus\" (\"WORKER_REF_ID\")\n",
      "\n",
      "CREATE INDEX \"idx_title__worker_ref_id\" ON \"Title\" (\"WORKER_REF_ID\")\n",
      "\n",
      "COMMIT\n",
      "PRAGMA foreign_keys = true\n",
      "CLOSE CONNECTION\n"
     ]
    }
   ],
   "source": [
    "db_file = 'test.db'\n",
    "conn, curs = create_connection(db_file, rewrite=True)# rewrite is used to recreate db every time the main code runs, without issues\n",
    "## curs.close()\n",
    "## conn.close()\n",
    "\n",
    "db = Database()\n",
    "#...............................................ENTITIES..................................................\n",
    "class Worker(db.Entity):\n",
    "#     _table_ = \"worker\"\n",
    "    WORKER_ID = PrimaryKey(int)\n",
    "    FIRST_NAME = Optional(str)\n",
    "    LAST_NAME = Optional(str)\n",
    "    SALARY = Optional(int)\n",
    "    JOINING_DATE = Optional(datetime.datetime)\n",
    "    DEPARTMENT = Optional(str)\n",
    "    BONUSES = Set('Bonus', reverse=\"WORKER_REF_ID\")\n",
    "    TITLES = Set('Title', reverse=\"WORKER_REF_ID\")\n",
    "    \n",
    "class Bonus(db.Entity):\n",
    "    WORKER_REF_ID = Required(Worker, reverse=\"BONUSES\")\n",
    "    BONUS_AMOUNT = Optional(int)\n",
    "    BONUS_DATE = Optional(datetime.datetime)   \n",
    "        \n",
    "class Title(db.Entity):\n",
    "    WORKER_REF_ID = Required(Worker, reverse=\"TITLES\")\n",
    "    WORKER_TITLE = Optional(str)\n",
    "    AFFECTED_FROM = Optional(datetime.datetime)\n",
    "#___________________________________________________________________________________________________________\n",
    "\n",
    "gen_fake_dat = execute_commands(squery, SQL_queries_exist=True)#<-<--<---<----<-----<------<--------------<<\n",
    "\n",
    "db.bind(provider='sqlite', filename=f\"{os.path.abspath(os.getcwd())}/{db_file}\", create_db=True)\n",
    "db.generate_mapping(create_tables=True, check_tables=gen_fake_dat)\n",
    "\n",
    "if gen_fake_dat:\n",
    "    fake_fillin(db.entities, 5)"
   ]
  },
  {
   "cell_type": "code",
   "execution_count": 1,
   "metadata": {
    "ExecuteTime": {
     "end_time": "2020-12-20T14:40:23.042186Z",
     "start_time": "2020-12-20T14:40:23.038269Z"
    }
   },
   "outputs": [],
   "source": [
    "ER_draw(db_file)\n",
    "for ent in list(db.entities.keys()):\n",
    "    sql_present(ent_name=str_to_class(ent).__name__, entity_present=True)"
   ]
  }
 ],
 "metadata": {
  "kernelspec": {
   "display_name": "Python 3",
   "language": "python",
   "name": "python3"
  },
  "language_info": {
   "codemirror_mode": {
    "name": "ipython",
    "version": 3
   },
   "file_extension": ".py",
   "mimetype": "text/x-python",
   "name": "python",
   "nbconvert_exporter": "python",
   "pygments_lexer": "ipython3",
   "version": "3.8.5"
  }
 },
 "nbformat": 4,
 "nbformat_minor": 4
}
